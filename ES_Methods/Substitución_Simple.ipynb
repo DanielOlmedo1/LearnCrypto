{
 "cells": [
  {
   "cell_type": "markdown",
   "metadata": {},
   "source": [
    "# Cifrado por Substitución Simple"
   ]
  },
  {
   "cell_type": "markdown",
   "metadata": {},
   "source": [
    "Este cifrado es inmune a ataques tipo fuerza bruta. "
   ]
  },
  {
   "cell_type": "markdown",
   "metadata": {},
   "source": [
    "|A|B|C|D|E|F|G|H|I|J|K|L|M|N|O|P|Q|R|S|T|U|V|W|X|Y|Z|\n",
    "|-|-|-|-|-|-|-|-|-|-|-|-|-|-|-|-|-|-|-|-|-|-|-|-|-|-|\n",
    "|R|A|N|O|E|D|F|C|G|P|Q|J|T|Y|Z|S|X|K|L|C|V|B|W|G|H|I|"
   ]
  },
  {
   "cell_type": "markdown",
   "metadata": {},
   "source": [
    "El cifrado consiste en hacer una correspondencia uno a uno entre el alfabeto y una permutación de este.\n",
    "Hay 26! (403291461126605635584000000) formas de hacer esto, es inútil proceder por ataque bruto."
   ]
  },
  {
   "cell_type": "markdown",
   "metadata": {},
   "source": [
    "**¿Cómo encriptar bajo este esquema?**"
   ]
  },
  {
   "cell_type": "markdown",
   "metadata": {},
   "source": [
    "1. Elegir una llave.\n"
   ]
  },
  {
   "cell_type": "code",
   "execution_count": null,
   "metadata": {
    "collapsed": true
   },
   "outputs": [],
   "source": [
    "import sys, random\n",
    "alfabeto = 'ABCDEFGHIJKLMNOPQRSTUVWXYZ'\n",
    "llave = 'RANOEDFCGPQJTYZSXKLCVBWGHI'\n",
    "\n",
    "def llaveAleatoria():\n",
    "    llaveA = list(alfabeto)\n",
    "    random.shuffle(llaveA)\n",
    "    return ''.join(llaveA)"
   ]
  },
  {
   "cell_type": "markdown",
   "metadata": {},
   "source": [
    "2. Escribir un mensaje.\n",
    "\n"
   ]
  },
  {
   "cell_type": "code",
   "execution_count": null,
   "metadata": {
    "collapsed": true
   },
   "outputs": [],
   "source": [
    "mensaje = 'Huele feo'\n",
    "    \n",
    "    "
   ]
  },
  {
   "cell_type": "code",
   "execution_count": null,
   "metadata": {
    "collapsed": true
   },
   "outputs": [],
   "source": []
  }
 ],
 "metadata": {
  "kernelspec": {
   "display_name": "Python 3",
   "language": "python",
   "name": "python3"
  },
  "language_info": {
   "codemirror_mode": {
    "name": "ipython",
    "version": 3
   },
   "file_extension": ".py",
   "mimetype": "text/x-python",
   "name": "python",
   "nbconvert_exporter": "python",
   "pygments_lexer": "ipython3",
   "version": "3.5.2"
  }
 },
 "nbformat": 4,
 "nbformat_minor": 1
}
